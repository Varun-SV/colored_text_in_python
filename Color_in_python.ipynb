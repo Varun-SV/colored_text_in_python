{
  "nbformat": 4,
  "nbformat_minor": 0,
  "metadata": {
    "colab": {
      "name": "Color in python.ipynb",
      "provenance": [],
      "collapsed_sections": [],
      "authorship_tag": "ABX9TyNtIyZLBBTeQVbGRU/ZYW/J",
      "include_colab_link": true
    },
    "kernelspec": {
      "name": "python3",
      "display_name": "Python 3"
    },
    "language_info": {
      "name": "python"
    }
  },
  "cells": [
    {
      "cell_type": "markdown",
      "metadata": {
        "id": "view-in-github",
        "colab_type": "text"
      },
      "source": [
        "<a href=\"https://colab.research.google.com/github/Varun-SV/colored_text_in_python/blob/main/Color_in_python.ipynb\" target=\"_parent\"><img src=\"https://colab.research.google.com/assets/colab-badge.svg\" alt=\"Open In Colab\"/></a>"
      ]
    },
    {
      "cell_type": "code",
      "source": [
        "class COLOR:\n",
        "\n",
        "  BOLD='\\033[1m'\n",
        "  ITALICS='\\033[3m'\n",
        "  UNDERLINE='\\033[4m'\n",
        "\n",
        "  DARK_GRAY='\\033[30m'\n",
        "  DARK_RED = '\\033[31m'\n",
        "  DARK_GREEN='\\033[32m'\n",
        "  DARK_YELLOW='\\033[33m'\n",
        "  DARK_BLUE='\\033[34m'\n",
        "  DARK_PURPLE='\\033[35m'\n",
        "  DARK_CYAN='\\033[36m'\n",
        "  DARK_WHITE='\\033[37m'\n",
        "  \n",
        "  GRAY='\\033[90m'\n",
        "  RED = '\\033[91m'\n",
        "  GREEN='\\033[92m'\n",
        "  YELLOW='\\033[93m'\n",
        "  BLUE='\\033[94m'\n",
        "  PURPLE='\\033[95m'\n",
        "  CYAN='\\033[96m'\n",
        "  WHITE='\\033[97m'\n",
        "  \n",
        "  LIGHT_GREY_HIGHLIGHT='\\033[40m'\n",
        "  LIGHT_RED_HIGHLIGHT='\\033[41m'\n",
        "  LIGHT_GREEN_HIGHLIGHT='\\033[42m'\n",
        "  LIGHT_YELLOW_HIGHLIGHT='\\033[43m'\n",
        "  LIGHT_BLUE_HIGHLIGHT='\\033[44m'\n",
        "  LIGHT_PURPLE_HIGHLIGHT='\\033[45m'\n",
        "  LIGHT_CYAN_HIGHLIGHT='\\033[46m'\n",
        "  LIGHT_WHITE_HIGHLIGHT='\\033[47m'\n",
        "\n",
        "  GREY_HIGHLIGHT='\\033[100m'\n",
        "  RED_HIGHLIGHT='\\033[101m'\n",
        "  GREEN_HIGHLIGHT='\\033[102m'\n",
        "  YELLOW_HIGHLIGHT='\\033[103m'\n",
        "  BLUE_HIGHLIGHT ='\\033[104m'\n",
        "  PURPLE_HIGHLIGHT='\\033[105m'\n",
        "  CYAN_HIGHLIGHT='\\033[106m'\n",
        "  WHITE_HIGHLIGHT='\\033[107m'\n",
        "\n",
        "  END ='\\033[0m'\n",
        "\n",
        "col={0:COLOR.END,\n",
        "     1:COLOR.BOLD,\n",
        "     2:COLOR.ITALICS,\n",
        "     3:COLOR.UNDERLINE,\n",
        "     4:COLOR.DARK_GRAY,\n",
        "     5:COLOR.DARK_RED,\n",
        "     6:COLOR.DARK_GREEN,\n",
        "     7:COLOR.DARK_YELLOW,\n",
        "     8:COLOR.DARK_BLUE,\n",
        "     9:COLOR.DARK_PURPLE,\n",
        "     10:COLOR.DARK_CYAN,\n",
        "     11:COLOR.DARK_WHITE,\n",
        "     12:COLOR.GRAY,\n",
        "     13:COLOR.RED,\n",
        "     14:COLOR.GREEN,\n",
        "     15:COLOR.YELLOW,\n",
        "     16:COLOR.BLUE,\n",
        "     17:COLOR.PURPLE,\n",
        "     18:COLOR.CYAN,\n",
        "     19:COLOR.WHITE,\n",
        "     20:COLOR.LIGHT_GREY_HIGHLIGHT,\n",
        "     21:COLOR.LIGHT_RED_HIGHLIGHT,\n",
        "     22:COLOR.LIGHT_GREEN_HIGHLIGHT,\n",
        "     23:COLOR.LIGHT_YELLOW_HIGHLIGHT,\n",
        "     24:COLOR.LIGHT_BLUE_HIGHLIGHT,\n",
        "     25:COLOR.LIGHT_PURPLE_HIGHLIGHT,\n",
        "     26:COLOR.LIGHT_CYAN_HIGHLIGHT,\n",
        "     27:COLOR.LIGHT_WHITE_HIGHLIGHT,\n",
        "     28:COLOR.GREY_HIGHLIGHT,\n",
        "     29:COLOR.RED_HIGHLIGHT,\n",
        "     30:COLOR.GREEN_HIGHLIGHT,\n",
        "     31:COLOR.YELLOW_HIGHLIGHT,\n",
        "     32:COLOR.BLUE_HIGHLIGHT,\n",
        "     33:COLOR.PURPLE_HIGHLIGHT,\n",
        "     34:COLOR.CYAN_HIGHLIGHT,\n",
        "     35:COLOR.WHITE_HIGHLIGHT\n",
        "     }\n",
        "#function to make printing each stuff easy...\n",
        "def prints(string,opt,ends='\n'):###Takes a string, a list of all the combination and the end delimiter and prints the combinations\n",
        "  temp=\"\"\n",
        "  for i in opt:\n",
        "    temp+=col[i]\n",
        "  temp+=string\n",
        "  print(temp+col[0],end=ends)"
      ],
      "metadata": {
        "id": "NkOFd-ODg54g"
      },
      "execution_count": 119,
      "outputs": []
    },
    {
      "cell_type": "code",
      "source": [
        "prints(\"Hello\",[i for i in range(3,8)],'\\n')\n",
        "prints(\"Created By\",[30,13,1,2,3],\" \")\n",
        "prints(\"Varun S V\",[16,1,2,3],'\\n')"
      ],
      "metadata": {
        "colab": {
          "base_uri": "https://localhost:8080/"
        },
        "id": "1q4pMBm_lPs5",
        "outputId": "1e47b121-6f08-4fed-dfa5-a0af64608231"
      },
      "execution_count": 128,
      "outputs": [
        {
          "output_type": "stream",
          "name": "stdout",
          "text": [
            "\u001b[4m\u001b[30m\u001b[31m\u001b[32m\u001b[33mHello\u001b[0m\n",
            "\u001b[102m\u001b[91m\u001b[1m\u001b[3m\u001b[4mCreated By\u001b[0m \u001b[94m\u001b[1m\u001b[3m\u001b[4mVarun S V\u001b[0m\n"
          ]
        }
      ]
    }
  ]
}
